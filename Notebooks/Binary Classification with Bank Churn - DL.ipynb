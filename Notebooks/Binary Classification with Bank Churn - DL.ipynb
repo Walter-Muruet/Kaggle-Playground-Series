{
 "cells": [
  {
   "cell_type": "markdown",
   "id": "1e8e13ee-3f42-4b5b-932e-a1eeeef4a109",
   "metadata": {},
   "source": [
    "# Binary Classification with Bank Churn"
   ]
  },
  {
   "cell_type": "markdown",
   "id": "bbfa84d8-3968-44a6-8bd8-4b61262c1b2f",
   "metadata": {},
   "source": [
    "## Set-UP"
   ]
  },
  {
   "cell_type": "markdown",
   "id": "5ce73aa5-4560-4383-ac1c-6f43ad01ae14",
   "metadata": {},
   "source": [
    "### Imports"
   ]
  },
  {
   "cell_type": "code",
   "execution_count": 1,
   "id": "9a4c0509-f23a-4218-806f-ec3ae5384613",
   "metadata": {},
   "outputs": [],
   "source": [
    "# Data Wrangling\n",
    "import numpy as np\n",
    "import pandas as pd\n",
    "\n",
    "# Machine Learning\n",
    "## Pre-processing\n",
    "from sklearn.preprocessing import LabelEncoder, OneHotEncoder, PowerTransformer, StandardScaler, MinMaxScaler\n",
    "from sklearn.pipeline import Pipeline\n",
    "from sklearn.compose import ColumnTransformer\n",
    "\n",
    "# PyTorch\n",
    "## Torch\n",
    "import torch\n",
    "import torch.nn as nn\n",
    "import torch.optim as optim\n",
    "## Utils\n",
    "from torch.utils.data import TensorDataset, DataLoader\n",
    "\n",
    "# Utils\n",
    "## File paths\n",
    "from pyhere import here\n",
    "## Date and times\n",
    "import datetime\n",
    "## Progress bar\n",
    "from tqdm import tqdm"
   ]
  },
  {
   "cell_type": "markdown",
   "id": "3146c9c9-4e20-4f07-98b4-37a7f2d96bc6",
   "metadata": {},
   "source": [
    "### Functions"
   ]
  },
  {
   "cell_type": "code",
   "execution_count": 2,
   "id": "c674eacc-2c0f-44a5-8c79-ff48fa9eb598",
   "metadata": {},
   "outputs": [],
   "source": [
    "def make_train_step_fn(model, loss_fn, optimiser):\n",
    "    def train_step(X,y):\n",
    "        model.train()\n",
    "        yhat = model(X)\n",
    "        loss = loss_fn(yhat, y)\n",
    "        loss.backward()\n",
    "        optimiser.step()\n",
    "        optimiser.zero_grad()\n",
    "        return loss.item()\n",
    "    return train_step\n",
    "\n",
    "def make_val_step_fn(model, loss_fn):\n",
    "    def val_step(X,y):\n",
    "        model.eval()\n",
    "        yhat = model(X)\n",
    "        loss = loss_fn(yhat, y)\n",
    "        return loss.item()\n",
    "    return val_step"
   ]
  },
  {
   "cell_type": "code",
   "execution_count": 3,
   "id": "bb014518-9943-454a-bf57-4ac3b540316d",
   "metadata": {},
   "outputs": [],
   "source": [
    "def do_epoch(data_loader):\n",
    "    epoch_loss = []\n",
    "    \n",
    "    for X_batch, y_batch in data_loader:\n",
    "        X_batch, y_batch = X_batch.to(device), y_batch.to(device)\n",
    "\n",
    "        tr_loss = train_step(X_batch, y_batch)\n",
    "        epoch_loss.append(tr_loss)\n",
    "\n",
    "    return np.mean(epoch_loss)"
   ]
  },
  {
   "cell_type": "markdown",
   "id": "d1d3f8d5-4dd4-4549-b69c-78c35bb81c26",
   "metadata": {},
   "source": [
    "### Device"
   ]
  },
  {
   "cell_type": "code",
   "execution_count": 4,
   "id": "8159403f-6c5a-4e39-828e-8a5f60e1701b",
   "metadata": {},
   "outputs": [],
   "source": [
    "device = \"cuda\" if torch.cuda.is_available() else \"cpu\""
   ]
  },
  {
   "cell_type": "markdown",
   "id": "aa4f3b68-4807-467b-a205-4201ef15b2cd",
   "metadata": {},
   "source": [
    "### Paths"
   ]
  },
  {
   "cell_type": "code",
   "execution_count": 5,
   "id": "cde410f9-194b-488d-a186-474bf4022735",
   "metadata": {},
   "outputs": [],
   "source": [
    "raw_data = here(\"Data\", \"Raw\", \"binary_classification_with_bank_churn.csv\")\n",
    "test_data = here(\"Data\", \"Test\", \"binary_classification_with_bank_churn.csv\")"
   ]
  },
  {
   "cell_type": "markdown",
   "id": "499c55f6-fdb7-434e-8c08-4a72ff2df6ab",
   "metadata": {},
   "source": [
    "## Data"
   ]
  },
  {
   "cell_type": "markdown",
   "id": "0911eb98-fd12-42cb-b6be-7522f626b95d",
   "metadata": {},
   "source": [
    "### Data Intake"
   ]
  },
  {
   "cell_type": "code",
   "execution_count": 6,
   "id": "bc7aff20-5f29-4dee-900d-bac32f502525",
   "metadata": {
    "scrolled": true
   },
   "outputs": [
    {
     "name": "stdout",
     "output_type": "stream",
     "text": [
      "<class 'pandas.core.frame.DataFrame'>\n",
      "RangeIndex: 165034 entries, 0 to 165033\n",
      "Data columns (total 14 columns):\n",
      " #   Column           Non-Null Count   Dtype  \n",
      "---  ------           --------------   -----  \n",
      " 0   id               165034 non-null  int64  \n",
      " 1   CustomerId       165034 non-null  int64  \n",
      " 2   Surname          165034 non-null  object \n",
      " 3   CreditScore      165034 non-null  int64  \n",
      " 4   Geography        165034 non-null  object \n",
      " 5   Gender           165034 non-null  object \n",
      " 6   Age              165034 non-null  float64\n",
      " 7   Tenure           165034 non-null  int64  \n",
      " 8   Balance          165034 non-null  float64\n",
      " 9   NumOfProducts    165034 non-null  int64  \n",
      " 10  HasCrCard        165034 non-null  float64\n",
      " 11  IsActiveMember   165034 non-null  float64\n",
      " 12  EstimatedSalary  165034 non-null  float64\n",
      " 13  Exited           165034 non-null  int64  \n",
      "dtypes: float64(5), int64(6), object(3)\n",
      "memory usage: 17.6+ MB\n"
     ]
    },
    {
     "data": {
      "text/plain": [
       "None"
      ]
     },
     "metadata": {},
     "output_type": "display_data"
    },
    {
     "data": {
      "text/html": [
       "<div>\n",
       "<style scoped>\n",
       "    .dataframe tbody tr th:only-of-type {\n",
       "        vertical-align: middle;\n",
       "    }\n",
       "\n",
       "    .dataframe tbody tr th {\n",
       "        vertical-align: top;\n",
       "    }\n",
       "\n",
       "    .dataframe thead th {\n",
       "        text-align: right;\n",
       "    }\n",
       "</style>\n",
       "<table border=\"1\" class=\"dataframe\">\n",
       "  <thead>\n",
       "    <tr style=\"text-align: right;\">\n",
       "      <th></th>\n",
       "      <th>id</th>\n",
       "      <th>CustomerId</th>\n",
       "      <th>Surname</th>\n",
       "      <th>CreditScore</th>\n",
       "      <th>Geography</th>\n",
       "      <th>Gender</th>\n",
       "      <th>Age</th>\n",
       "      <th>Tenure</th>\n",
       "      <th>Balance</th>\n",
       "      <th>NumOfProducts</th>\n",
       "      <th>HasCrCard</th>\n",
       "      <th>IsActiveMember</th>\n",
       "      <th>EstimatedSalary</th>\n",
       "      <th>Exited</th>\n",
       "    </tr>\n",
       "  </thead>\n",
       "  <tbody>\n",
       "    <tr>\n",
       "      <th>0</th>\n",
       "      <td>0</td>\n",
       "      <td>15674932</td>\n",
       "      <td>Okwudilichukwu</td>\n",
       "      <td>668</td>\n",
       "      <td>France</td>\n",
       "      <td>Male</td>\n",
       "      <td>33.0</td>\n",
       "      <td>3</td>\n",
       "      <td>0.00</td>\n",
       "      <td>2</td>\n",
       "      <td>1.0</td>\n",
       "      <td>0.0</td>\n",
       "      <td>181449.97</td>\n",
       "      <td>0</td>\n",
       "    </tr>\n",
       "    <tr>\n",
       "      <th>1</th>\n",
       "      <td>1</td>\n",
       "      <td>15749177</td>\n",
       "      <td>Okwudiliolisa</td>\n",
       "      <td>627</td>\n",
       "      <td>France</td>\n",
       "      <td>Male</td>\n",
       "      <td>33.0</td>\n",
       "      <td>1</td>\n",
       "      <td>0.00</td>\n",
       "      <td>2</td>\n",
       "      <td>1.0</td>\n",
       "      <td>1.0</td>\n",
       "      <td>49503.50</td>\n",
       "      <td>0</td>\n",
       "    </tr>\n",
       "    <tr>\n",
       "      <th>2</th>\n",
       "      <td>2</td>\n",
       "      <td>15694510</td>\n",
       "      <td>Hsueh</td>\n",
       "      <td>678</td>\n",
       "      <td>France</td>\n",
       "      <td>Male</td>\n",
       "      <td>40.0</td>\n",
       "      <td>10</td>\n",
       "      <td>0.00</td>\n",
       "      <td>2</td>\n",
       "      <td>1.0</td>\n",
       "      <td>0.0</td>\n",
       "      <td>184866.69</td>\n",
       "      <td>0</td>\n",
       "    </tr>\n",
       "    <tr>\n",
       "      <th>3</th>\n",
       "      <td>3</td>\n",
       "      <td>15741417</td>\n",
       "      <td>Kao</td>\n",
       "      <td>581</td>\n",
       "      <td>France</td>\n",
       "      <td>Male</td>\n",
       "      <td>34.0</td>\n",
       "      <td>2</td>\n",
       "      <td>148882.54</td>\n",
       "      <td>1</td>\n",
       "      <td>1.0</td>\n",
       "      <td>1.0</td>\n",
       "      <td>84560.88</td>\n",
       "      <td>0</td>\n",
       "    </tr>\n",
       "    <tr>\n",
       "      <th>4</th>\n",
       "      <td>4</td>\n",
       "      <td>15766172</td>\n",
       "      <td>Chiemenam</td>\n",
       "      <td>716</td>\n",
       "      <td>Spain</td>\n",
       "      <td>Male</td>\n",
       "      <td>33.0</td>\n",
       "      <td>5</td>\n",
       "      <td>0.00</td>\n",
       "      <td>2</td>\n",
       "      <td>1.0</td>\n",
       "      <td>1.0</td>\n",
       "      <td>15068.83</td>\n",
       "      <td>0</td>\n",
       "    </tr>\n",
       "  </tbody>\n",
       "</table>\n",
       "</div>"
      ],
      "text/plain": [
       "   id  CustomerId         Surname  CreditScore Geography Gender   Age  Tenure  \\\n",
       "0   0    15674932  Okwudilichukwu          668    France   Male  33.0       3   \n",
       "1   1    15749177   Okwudiliolisa          627    France   Male  33.0       1   \n",
       "2   2    15694510           Hsueh          678    France   Male  40.0      10   \n",
       "3   3    15741417             Kao          581    France   Male  34.0       2   \n",
       "4   4    15766172       Chiemenam          716     Spain   Male  33.0       5   \n",
       "\n",
       "     Balance  NumOfProducts  HasCrCard  IsActiveMember  EstimatedSalary  \\\n",
       "0       0.00              2        1.0             0.0        181449.97   \n",
       "1       0.00              2        1.0             1.0         49503.50   \n",
       "2       0.00              2        1.0             0.0        184866.69   \n",
       "3  148882.54              1        1.0             1.0         84560.88   \n",
       "4       0.00              2        1.0             1.0         15068.83   \n",
       "\n",
       "   Exited  \n",
       "0       0  \n",
       "1       0  \n",
       "2       0  \n",
       "3       0  \n",
       "4       0  "
      ]
     },
     "metadata": {},
     "output_type": "display_data"
    }
   ],
   "source": [
    "df = pd.read_csv(raw_data)\n",
    "display(df.info())\n",
    "display(df.head())"
   ]
  },
  {
   "cell_type": "markdown",
   "id": "2614bb27-2806-489c-b602-4300f6035873",
   "metadata": {},
   "source": [
    "### Data Preparation"
   ]
  },
  {
   "cell_type": "code",
   "execution_count": 7,
   "id": "f2461ee1-dcc4-4ca9-b173-967cfd2990c5",
   "metadata": {},
   "outputs": [],
   "source": [
    "# Pre-processing pipeline\n",
    "feat_eng = ColumnTransformer(\n",
    "    transformers = \n",
    "    [\n",
    "        (\"dummy\", OneHotEncoder(), [\"Geography\", \"Gender\"]),\n",
    "        (\"transform\", PowerTransformer(), [\"CreditScore\", \"Age\", \"Tenure\", \"Balance\", \"NumOfProducts\", \"EstimatedSalary\"])\n",
    "    ], remainder = \"passthrough\"\n",
    ")\n",
    "\n",
    "scaler = ColumnTransformer(\n",
    "    transformers = [\n",
    "        (\"scale\", StandardScaler(), [5,6,7,8,9,10])\n",
    "    ], remainder = \"passthrough\"\n",
    ")\n",
    "\n",
    "pipe = Pipeline(\n",
    "    steps = [\n",
    "        (\"feats\", feat_eng),\n",
    "        (\"scale\", scaler)\n",
    "    ])\n",
    "\n",
    "def prepare_data(data_frame):\n",
    "    X = data_frame.drop(columns = [\"id\", \"CustomerId\", \"Surname\", \"Exited\"])\n",
    "    y = data_frame.loc[:, \"Exited\"]\n",
    "\n",
    "    return X, y.values.reshape(-1,1)"
   ]
  },
  {
   "cell_type": "code",
   "execution_count": 8,
   "id": "b4906a26-70ba-44f3-9226-1b6f08c845e1",
   "metadata": {},
   "outputs": [],
   "source": [
    "X, y = prepare_data(df)\n",
    "X = pipe.fit_transform(X)"
   ]
  },
  {
   "cell_type": "markdown",
   "id": "7b1ab6cf-44fb-4c60-98da-7e1535da84dc",
   "metadata": {},
   "source": [
    "### Torch TensorDataset"
   ]
  },
  {
   "cell_type": "code",
   "execution_count": 9,
   "id": "f1c11731-98cf-4188-9350-053beffca190",
   "metadata": {},
   "outputs": [],
   "source": [
    "train_dataset = TensorDataset(\n",
    "    torch.as_tensor(X).float(),\n",
    "    torch.as_tensor(y).float())"
   ]
  },
  {
   "cell_type": "markdown",
   "id": "5269c714-02c7-44e8-b85c-16a9fd9c6bd4",
   "metadata": {},
   "source": [
    "## Model"
   ]
  },
  {
   "cell_type": "markdown",
   "id": "9e392f59-4507-4ecc-b2ab-931bdcc2e1b4",
   "metadata": {},
   "source": [
    "### Hyperparameters"
   ]
  },
  {
   "cell_type": "code",
   "execution_count": 10,
   "id": "8f7b3c25-fad0-4556-8722-4c5dfd3ea822",
   "metadata": {},
   "outputs": [],
   "source": [
    "lr = 0.001\n",
    "batch_size = 32\n",
    "n_epoch = 500\n",
    "optim_fn = optim.SGD"
   ]
  },
  {
   "cell_type": "markdown",
   "id": "b2b2b849-febb-4e10-a286-7a1f546ab47c",
   "metadata": {},
   "source": [
    "### Model Configuration"
   ]
  },
  {
   "cell_type": "code",
   "execution_count": 11,
   "id": "c8709849-f0da-4365-9638-3eed70b42952",
   "metadata": {},
   "outputs": [],
   "source": [
    "model = nn.Sequential(\n",
    "    nn.Linear(\n",
    "        in_features  = X.shape[1],\n",
    "        out_features = 610,\n",
    "        bias = True\n",
    "    ),\n",
    "    nn.PReLU(),\n",
    "    nn.Dropout(0.25),\n",
    "    nn.Linear(\n",
    "        in_features = 610,\n",
    "        out_features = 305,\n",
    "        bias = True\n",
    "    ),\n",
    "    nn.PReLU(),\n",
    "    nn.Dropout(0.25),\n",
    "    nn.Linear(\n",
    "        in_features  = 305,\n",
    "        out_features = 150,\n",
    "        bias = True\n",
    "    ),\n",
    "    nn.PReLU(),\n",
    "    nn.Dropout(0.25),\n",
    "    nn.Linear(\n",
    "        in_features = 150,\n",
    "        out_features = 75,\n",
    "        bias = True\n",
    "    ),\n",
    "    nn.PReLU(),\n",
    "    nn.Dropout(0.25),\n",
    "    nn.Linear(\n",
    "        in_features = 75,\n",
    "        out_features = 25,\n",
    "        bias = True\n",
    "    ),\n",
    "    nn.PReLU(),\n",
    "    nn.Dropout(0.25),\n",
    "    nn.Linear(\n",
    "        in_features = 25,\n",
    "        out_features = 7,\n",
    "        bias = True\n",
    "    ),\n",
    "    nn.PReLU(),\n",
    "    nn.Dropout(0.25),\n",
    "    nn.Linear(\n",
    "        in_features = 7,\n",
    "        out_features = 1,\n",
    "        bias = True\n",
    "    )\n",
    ")\n",
    "\n",
    "loss_fn = nn.BCEWithLogitsLoss()\n",
    "optimiser = optim_fn(model.parameters(), lr = lr)"
   ]
  },
  {
   "cell_type": "markdown",
   "id": "eefe725d-5e41-4801-95e5-064f2e0f6e9b",
   "metadata": {},
   "source": [
    "## Model Training"
   ]
  },
  {
   "cell_type": "markdown",
   "id": "32d9427f-987f-4998-8761-12fc5f3d8f08",
   "metadata": {},
   "source": [
    "### Data Loaders"
   ]
  },
  {
   "cell_type": "code",
   "execution_count": 12,
   "id": "4e2bad70-e2dc-43d6-86f6-608d20de5976",
   "metadata": {},
   "outputs": [],
   "source": [
    "data_loader = DataLoader(dataset = train_dataset, batch_size = batch_size, shuffle = True)"
   ]
  },
  {
   "cell_type": "code",
   "execution_count": 13,
   "id": "146daef9-9274-4a51-80a2-116d8e558e6d",
   "metadata": {},
   "outputs": [
    {
     "name": "stderr",
     "output_type": "stream",
     "text": [
      "100%|█████████████████████████████████████████| 500/500 [27:27<00:00,  3.30s/it]\n"
     ]
    }
   ],
   "source": [
    "model.to(device)\n",
    "\n",
    "train_step = make_train_step_fn(model, loss_fn, optimiser)\n",
    "val_step = make_val_step_fn(model, loss_fn)\n",
    "\n",
    "train_losses = []\n",
    "\n",
    "\n",
    "for epoch in tqdm(range(n_epoch)):\n",
    "    loss = do_epoch(data_loader)\n",
    "    train_losses.append(loss)"
   ]
  },
  {
   "cell_type": "markdown",
   "id": "bc5c9da1-be44-4536-8abc-6f478cacea7e",
   "metadata": {},
   "source": [
    "## Predictions"
   ]
  },
  {
   "cell_type": "code",
   "execution_count": 14,
   "id": "dc0e9eb0-2ee7-4e8f-b261-1c454d3f6647",
   "metadata": {},
   "outputs": [
    {
     "data": {
      "text/html": [
       "<div>\n",
       "<style scoped>\n",
       "    .dataframe tbody tr th:only-of-type {\n",
       "        vertical-align: middle;\n",
       "    }\n",
       "\n",
       "    .dataframe tbody tr th {\n",
       "        vertical-align: top;\n",
       "    }\n",
       "\n",
       "    .dataframe thead th {\n",
       "        text-align: right;\n",
       "    }\n",
       "</style>\n",
       "<table border=\"1\" class=\"dataframe\">\n",
       "  <thead>\n",
       "    <tr style=\"text-align: right;\">\n",
       "      <th></th>\n",
       "      <th>id</th>\n",
       "      <th>CustomerId</th>\n",
       "      <th>Surname</th>\n",
       "      <th>CreditScore</th>\n",
       "      <th>Geography</th>\n",
       "      <th>Gender</th>\n",
       "      <th>Age</th>\n",
       "      <th>Tenure</th>\n",
       "      <th>Balance</th>\n",
       "      <th>NumOfProducts</th>\n",
       "      <th>HasCrCard</th>\n",
       "      <th>IsActiveMember</th>\n",
       "      <th>EstimatedSalary</th>\n",
       "    </tr>\n",
       "  </thead>\n",
       "  <tbody>\n",
       "    <tr>\n",
       "      <th>0</th>\n",
       "      <td>165034</td>\n",
       "      <td>15773898</td>\n",
       "      <td>Lucchese</td>\n",
       "      <td>586</td>\n",
       "      <td>France</td>\n",
       "      <td>Female</td>\n",
       "      <td>23.0</td>\n",
       "      <td>2</td>\n",
       "      <td>0.00</td>\n",
       "      <td>2</td>\n",
       "      <td>0.0</td>\n",
       "      <td>1.0</td>\n",
       "      <td>160976.75</td>\n",
       "    </tr>\n",
       "    <tr>\n",
       "      <th>1</th>\n",
       "      <td>165035</td>\n",
       "      <td>15782418</td>\n",
       "      <td>Nott</td>\n",
       "      <td>683</td>\n",
       "      <td>France</td>\n",
       "      <td>Female</td>\n",
       "      <td>46.0</td>\n",
       "      <td>2</td>\n",
       "      <td>0.00</td>\n",
       "      <td>1</td>\n",
       "      <td>1.0</td>\n",
       "      <td>0.0</td>\n",
       "      <td>72549.27</td>\n",
       "    </tr>\n",
       "    <tr>\n",
       "      <th>2</th>\n",
       "      <td>165036</td>\n",
       "      <td>15807120</td>\n",
       "      <td>K?</td>\n",
       "      <td>656</td>\n",
       "      <td>France</td>\n",
       "      <td>Female</td>\n",
       "      <td>34.0</td>\n",
       "      <td>7</td>\n",
       "      <td>0.00</td>\n",
       "      <td>2</td>\n",
       "      <td>1.0</td>\n",
       "      <td>0.0</td>\n",
       "      <td>138882.09</td>\n",
       "    </tr>\n",
       "    <tr>\n",
       "      <th>3</th>\n",
       "      <td>165037</td>\n",
       "      <td>15808905</td>\n",
       "      <td>O'Donnell</td>\n",
       "      <td>681</td>\n",
       "      <td>France</td>\n",
       "      <td>Male</td>\n",
       "      <td>36.0</td>\n",
       "      <td>8</td>\n",
       "      <td>0.00</td>\n",
       "      <td>1</td>\n",
       "      <td>1.0</td>\n",
       "      <td>0.0</td>\n",
       "      <td>113931.57</td>\n",
       "    </tr>\n",
       "    <tr>\n",
       "      <th>4</th>\n",
       "      <td>165038</td>\n",
       "      <td>15607314</td>\n",
       "      <td>Higgins</td>\n",
       "      <td>752</td>\n",
       "      <td>Germany</td>\n",
       "      <td>Male</td>\n",
       "      <td>38.0</td>\n",
       "      <td>10</td>\n",
       "      <td>121263.62</td>\n",
       "      <td>1</td>\n",
       "      <td>1.0</td>\n",
       "      <td>0.0</td>\n",
       "      <td>139431.00</td>\n",
       "    </tr>\n",
       "  </tbody>\n",
       "</table>\n",
       "</div>"
      ],
      "text/plain": [
       "       id  CustomerId    Surname  CreditScore Geography  Gender   Age  Tenure  \\\n",
       "0  165034    15773898   Lucchese          586    France  Female  23.0       2   \n",
       "1  165035    15782418       Nott          683    France  Female  46.0       2   \n",
       "2  165036    15807120         K?          656    France  Female  34.0       7   \n",
       "3  165037    15808905  O'Donnell          681    France    Male  36.0       8   \n",
       "4  165038    15607314    Higgins          752   Germany    Male  38.0      10   \n",
       "\n",
       "     Balance  NumOfProducts  HasCrCard  IsActiveMember  EstimatedSalary  \n",
       "0       0.00              2        0.0             1.0        160976.75  \n",
       "1       0.00              1        1.0             0.0         72549.27  \n",
       "2       0.00              2        1.0             0.0        138882.09  \n",
       "3       0.00              1        1.0             0.0        113931.57  \n",
       "4  121263.62              1        1.0             0.0        139431.00  "
      ]
     },
     "metadata": {},
     "output_type": "display_data"
    }
   ],
   "source": [
    "test_df = pd.read_csv(test_data)\n",
    "display(test_df.head())"
   ]
  },
  {
   "cell_type": "code",
   "execution_count": 15,
   "id": "d8e8ce97-5981-4123-85bc-e28dd02aff51",
   "metadata": {},
   "outputs": [],
   "source": [
    "ids = test_df[\"id\"]"
   ]
  },
  {
   "cell_type": "code",
   "execution_count": 16,
   "id": "f008e2f0-2814-46e5-80ad-9e10d08f43d0",
   "metadata": {},
   "outputs": [],
   "source": [
    "X_test = test_df.drop(columns = [\"id\", \"CustomerId\", \"Surname\"])\n",
    "X_test = pipe.transform(X_test)\n",
    "\n",
    "model.eval()\n",
    "yhat = model(torch.as_tensor(X_test).float().to(device)).detach().cpu()\n",
    "yprops = torch.sigmoid(yhat).numpy()"
   ]
  },
  {
   "cell_type": "code",
   "execution_count": 17,
   "id": "68167e40-8138-476d-b374-155f3c68bbee",
   "metadata": {},
   "outputs": [
    {
     "data": {
      "text/plain": [
       "(110023, 1)"
      ]
     },
     "execution_count": 17,
     "metadata": {},
     "output_type": "execute_result"
    }
   ],
   "source": [
    "yprops.shape"
   ]
  },
  {
   "cell_type": "code",
   "execution_count": 18,
   "id": "5c6130f8-0890-4e0d-915a-79d51b0a53f3",
   "metadata": {},
   "outputs": [
    {
     "data": {
      "text/html": [
       "<div>\n",
       "<style scoped>\n",
       "    .dataframe tbody tr th:only-of-type {\n",
       "        vertical-align: middle;\n",
       "    }\n",
       "\n",
       "    .dataframe tbody tr th {\n",
       "        vertical-align: top;\n",
       "    }\n",
       "\n",
       "    .dataframe thead th {\n",
       "        text-align: right;\n",
       "    }\n",
       "</style>\n",
       "<table border=\"1\" class=\"dataframe\">\n",
       "  <thead>\n",
       "    <tr style=\"text-align: right;\">\n",
       "      <th></th>\n",
       "      <th>id</th>\n",
       "      <th>Exited</th>\n",
       "    </tr>\n",
       "  </thead>\n",
       "  <tbody>\n",
       "    <tr>\n",
       "      <th>0</th>\n",
       "      <td>165034</td>\n",
       "      <td>0.020087</td>\n",
       "    </tr>\n",
       "    <tr>\n",
       "      <th>1</th>\n",
       "      <td>165035</td>\n",
       "      <td>0.895360</td>\n",
       "    </tr>\n",
       "    <tr>\n",
       "      <th>2</th>\n",
       "      <td>165036</td>\n",
       "      <td>0.021614</td>\n",
       "    </tr>\n",
       "    <tr>\n",
       "      <th>3</th>\n",
       "      <td>165037</td>\n",
       "      <td>0.203092</td>\n",
       "    </tr>\n",
       "    <tr>\n",
       "      <th>4</th>\n",
       "      <td>165038</td>\n",
       "      <td>0.332537</td>\n",
       "    </tr>\n",
       "  </tbody>\n",
       "</table>\n",
       "</div>"
      ],
      "text/plain": [
       "       id    Exited\n",
       "0  165034  0.020087\n",
       "1  165035  0.895360\n",
       "2  165036  0.021614\n",
       "3  165037  0.203092\n",
       "4  165038  0.332537"
      ]
     },
     "execution_count": 18,
     "metadata": {},
     "output_type": "execute_result"
    }
   ],
   "source": [
    "submission = pd.DataFrame.from_dict(\n",
    "    {\n",
    "        \"id\": ids.values,\n",
    "        \"Exited\": yprops.reshape(-1,)\n",
    "    }\n",
    ")\n",
    "\n",
    "submission.head()"
   ]
  },
  {
   "cell_type": "code",
   "execution_count": 19,
   "id": "3757a768-19ab-4c32-95df-10039a63f958",
   "metadata": {},
   "outputs": [],
   "source": [
    "out_suffix = datetime.datetime.now().strftime(\"%Y%m%d%H%M\")\n",
    "out_file = here(\"Submissions\", f\"binary_classification_with_bank_churn_dl_{out_suffix}.csv\")\n",
    "submission.to_csv(out_file, index = False)"
   ]
  }
 ],
 "metadata": {
  "kernelspec": {
   "display_name": "Deep Learning (PyTorch)",
   "language": "python",
   "name": "dl_pytorch"
  },
  "language_info": {
   "codemirror_mode": {
    "name": "ipython",
    "version": 3
   },
   "file_extension": ".py",
   "mimetype": "text/x-python",
   "name": "python",
   "nbconvert_exporter": "python",
   "pygments_lexer": "ipython3",
   "version": "3.11.4"
  }
 },
 "nbformat": 4,
 "nbformat_minor": 5
}
